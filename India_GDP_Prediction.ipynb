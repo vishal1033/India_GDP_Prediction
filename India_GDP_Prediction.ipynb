{
 "cells": [
  {
   "cell_type": "code",
   "execution_count": 13,
   "id": "93ea4698-0b30-409c-8a4d-90c1983d9d24",
   "metadata": {},
   "outputs": [],
   "source": [
    "import pandas as pd\n",
    "import numpy as np"
   ]
  },
  {
   "cell_type": "code",
   "execution_count": 14,
   "id": "fb646012-1243-4202-bb00-55d5c6488381",
   "metadata": {},
   "outputs": [],
   "source": [
    "gdp = pd.read_csv('/Users/vishaldubey/Downloads/gdp_1960_2020.csv')"
   ]
  },
  {
   "cell_type": "code",
   "execution_count": 15,
   "id": "8c1a1a97-606b-4f7d-a0a1-692e482c92e5",
   "metadata": {},
   "outputs": [
    {
     "data": {
      "text/html": [
       "<div>\n",
       "<style scoped>\n",
       "    .dataframe tbody tr th:only-of-type {\n",
       "        vertical-align: middle;\n",
       "    }\n",
       "\n",
       "    .dataframe tbody tr th {\n",
       "        vertical-align: top;\n",
       "    }\n",
       "\n",
       "    .dataframe thead th {\n",
       "        text-align: right;\n",
       "    }\n",
       "</style>\n",
       "<table border=\"1\" class=\"dataframe\">\n",
       "  <thead>\n",
       "    <tr style=\"text-align: right;\">\n",
       "      <th></th>\n",
       "      <th>year</th>\n",
       "      <th>rank</th>\n",
       "      <th>country</th>\n",
       "      <th>state</th>\n",
       "      <th>gdp</th>\n",
       "      <th>gdp_percent</th>\n",
       "    </tr>\n",
       "  </thead>\n",
       "  <tbody>\n",
       "    <tr>\n",
       "      <th>0</th>\n",
       "      <td>1960</td>\n",
       "      <td>1</td>\n",
       "      <td>the United States</td>\n",
       "      <td>America</td>\n",
       "      <td>543300000000</td>\n",
       "      <td>0.468483</td>\n",
       "    </tr>\n",
       "    <tr>\n",
       "      <th>1</th>\n",
       "      <td>1960</td>\n",
       "      <td>2</td>\n",
       "      <td>United Kingdom</td>\n",
       "      <td>Europe</td>\n",
       "      <td>73233967692</td>\n",
       "      <td>0.063149</td>\n",
       "    </tr>\n",
       "    <tr>\n",
       "      <th>2</th>\n",
       "      <td>1960</td>\n",
       "      <td>3</td>\n",
       "      <td>France</td>\n",
       "      <td>Europe</td>\n",
       "      <td>62225478000</td>\n",
       "      <td>0.053656</td>\n",
       "    </tr>\n",
       "    <tr>\n",
       "      <th>3</th>\n",
       "      <td>1960</td>\n",
       "      <td>4</td>\n",
       "      <td>China</td>\n",
       "      <td>Asia</td>\n",
       "      <td>59716467625</td>\n",
       "      <td>0.051493</td>\n",
       "    </tr>\n",
       "    <tr>\n",
       "      <th>4</th>\n",
       "      <td>1960</td>\n",
       "      <td>5</td>\n",
       "      <td>Japan</td>\n",
       "      <td>Asia</td>\n",
       "      <td>44307342950</td>\n",
       "      <td>0.038206</td>\n",
       "    </tr>\n",
       "  </tbody>\n",
       "</table>\n",
       "</div>"
      ],
      "text/plain": [
       "   year  rank            country    state           gdp  gdp_percent\n",
       "0  1960     1  the United States  America  543300000000     0.468483\n",
       "1  1960     2     United Kingdom   Europe   73233967692     0.063149\n",
       "2  1960     3             France   Europe   62225478000     0.053656\n",
       "3  1960     4              China     Asia   59716467625     0.051493\n",
       "4  1960     5              Japan     Asia   44307342950     0.038206"
      ]
     },
     "execution_count": 15,
     "metadata": {},
     "output_type": "execute_result"
    }
   ],
   "source": [
    "gdp.head()"
   ]
  },
  {
   "cell_type": "code",
   "execution_count": 16,
   "id": "aa6e57db-9a8b-4efc-beca-214b72ef5c40",
   "metadata": {},
   "outputs": [
    {
     "data": {
      "text/plain": [
       "array(['the United States', 'United Kingdom', 'France', 'China', 'Japan',\n",
       "       'Canada', 'Italy', 'India', 'Australia', 'Sweden', 'Brazil',\n",
       "       'Turkey', 'Mexico', 'Netherlands', 'Spain', 'Belgium',\n",
       "       'Switzerland', 'Venezuela', 'South Africa', 'Philippines',\n",
       "       'Austria', 'Denmark', 'New Zealand', 'Finland', 'Norway', 'Greece',\n",
       "       'Bangladesh', 'Iran', 'Nigeria', 'Chile', 'Columbia',\n",
       "       'South Korea', 'Pakistan', 'Congo (gold)', 'Portugal', 'Thailand',\n",
       "       'Algeria', 'Israel', 'Peru', 'Morocco', 'Ireland', 'Malaysia',\n",
       "       'Puerto Rico', 'Iraq', 'Sri Lanka', 'Hong Kong', 'Sudan',\n",
       "       'Uruguay', 'Garner', 'Zimbabwe', 'Guatemala', 'Ecuador', 'Syria',\n",
       "       'Senegal', 'Kenya', 'Zambia', 'Singapore', 'Luxembourg', 'Jamaica',\n",
       "       'Madagascar', 'Dominica', 'Cambodia', 'Cameroon', 'Bolivia',\n",
       "       \"C ô te d'Ivoire\", 'Afghanistan', 'Panama', 'Trinidad and Tobago',\n",
       "       'Nepal', 'Costa Rica', 'Niger', 'Uganda', 'Honduras',\n",
       "       'Burkina Faso', 'Sierra Leone', 'Chad', 'Haiti', 'Iceland',\n",
       "       'Papua New Guinea', 'Benin', 'Nicaragua', 'Burundi', 'Liberia',\n",
       "       'Somalia', 'Guyana', 'Bahamas', 'Malawi', 'Gabon',\n",
       "       'Congo (Brazzaville)', 'Togo', 'Rwanda', 'Fiji Islands',\n",
       "       'Central Africa', 'Suriname', 'Mauritania', 'Bermuda', 'Eswatini',\n",
       "       'Lesotho', 'Botswana', 'Belize',\n",
       "       'Saint Vincent and the Grenadines', 'Saint Kitts and Nevis',\n",
       "       'Seychelles', 'Argentina', 'Equatorial Guinea', 'Egypt', 'Kuwait',\n",
       "       'Tunisia', 'El Salvador', 'Jordan', 'Paraguay', 'French Polynesia',\n",
       "       'New Caledonia', 'Brunei', 'Oman', 'Gambia', 'Indonesia', 'Mali',\n",
       "       'Solomon Islands', 'Saudi Arabia', 'Germany', 'Cuba', 'Qatar',\n",
       "       'Monaco', 'Malta', 'Liechtenstein', 'Guinea Bissau', 'Andorra',\n",
       "       'Greenland', 'Kiribati', 'Barbados', 'United Arab Emirates',\n",
       "       'Cyprus', 'Tonga', 'Mauritius', 'Saint Lucia',\n",
       "       'Antigua and Barbuda', 'Grenada', 'Vanuatu', 'Bulgaria', 'Angola',\n",
       "       'Mozambique', 'Bahrain', 'Namibia', 'Cape Verde', 'Bhutan',\n",
       "       'Comoros', 'Maldives', 'Ethiopia', 'Mongolia', 'Marshall Islands',\n",
       "       'Macao', 'Samoa', 'Micronesia (Federated States of)', 'Albania',\n",
       "       'Laos', 'Vietnam', 'Djibouti', 'Guinea', 'Aruba', 'Ukraine',\n",
       "       'Romania', 'Turkmenistan', 'Russia', 'Tanzania', 'Lebanon',\n",
       "       'Poland', 'Czech', 'Libya', 'Kazakhstan', 'Belarus', 'Slovenia',\n",
       "       'Uzbekistan', 'Slovakia', 'Azerbaijan', 'Georgia', 'Yemen',\n",
       "       'Macedonia', 'Moldova', 'Kyrgyzstan', 'Tajikistan', 'Armenia',\n",
       "       'Palau', 'Tuvalu', 'Hungary', 'Eritrea', 'Estonia', 'Palestine',\n",
       "       'Bosnia and Herzegovina', 'Croatia', 'Serbia', 'Lithuania',\n",
       "       'Latvia', 'Isle of man', 'Cayman Islands', 'Faroe Islands',\n",
       "       'Myanmar', 'San Marino', 'Montenegro', 'Timor Leste',\n",
       "       'Turks and Caicos Islands', 'Sao Tome and Principe.', 'Guam',\n",
       "       'Northern Mariana Islands', 'American Samoa', 'Nauru',\n",
       "       'South Sultan', 'Cura ç Ao', 'Netherlands Saint Martin'],\n",
       "      dtype=object)"
      ]
     },
     "execution_count": 16,
     "metadata": {},
     "output_type": "execute_result"
    }
   ],
   "source": [
    "gdp['country'].unique()"
   ]
  },
  {
   "cell_type": "code",
   "execution_count": null,
   "id": "3ede427b-8c97-4c37-9ec5-b375a72aa13b",
   "metadata": {},
   "outputs": [],
   "source": [
    "#We want to do predict the gdp for India, so we will only select India from country and make it a seperate dataframe."
   ]
  },
  {
   "cell_type": "code",
   "execution_count": 17,
   "id": "d2e7706e-94fb-4e70-b0e1-20957a0f913a",
   "metadata": {},
   "outputs": [
    {
     "data": {
      "text/html": [
       "<div>\n",
       "<style scoped>\n",
       "    .dataframe tbody tr th:only-of-type {\n",
       "        vertical-align: middle;\n",
       "    }\n",
       "\n",
       "    .dataframe tbody tr th {\n",
       "        vertical-align: top;\n",
       "    }\n",
       "\n",
       "    .dataframe thead th {\n",
       "        text-align: right;\n",
       "    }\n",
       "</style>\n",
       "<table border=\"1\" class=\"dataframe\">\n",
       "  <thead>\n",
       "    <tr style=\"text-align: right;\">\n",
       "      <th></th>\n",
       "      <th>year</th>\n",
       "      <th>rank</th>\n",
       "      <th>country</th>\n",
       "      <th>state</th>\n",
       "      <th>gdp</th>\n",
       "      <th>gdp_percent</th>\n",
       "    </tr>\n",
       "  </thead>\n",
       "  <tbody>\n",
       "    <tr>\n",
       "      <th>7</th>\n",
       "      <td>1960</td>\n",
       "      <td>8</td>\n",
       "      <td>India</td>\n",
       "      <td>Asia</td>\n",
       "      <td>37029883875</td>\n",
       "      <td>0.031931</td>\n",
       "    </tr>\n",
       "    <tr>\n",
       "      <th>110</th>\n",
       "      <td>1961</td>\n",
       "      <td>8</td>\n",
       "      <td>India</td>\n",
       "      <td>Asia</td>\n",
       "      <td>39232435784</td>\n",
       "      <td>0.032502</td>\n",
       "    </tr>\n",
       "    <tr>\n",
       "      <th>213</th>\n",
       "      <td>1962</td>\n",
       "      <td>8</td>\n",
       "      <td>India</td>\n",
       "      <td>Asia</td>\n",
       "      <td>42161481858</td>\n",
       "      <td>0.031930</td>\n",
       "    </tr>\n",
       "    <tr>\n",
       "      <th>317</th>\n",
       "      <td>1963</td>\n",
       "      <td>7</td>\n",
       "      <td>India</td>\n",
       "      <td>Asia</td>\n",
       "      <td>48421923458</td>\n",
       "      <td>0.034050</td>\n",
       "    </tr>\n",
       "    <tr>\n",
       "      <th>422</th>\n",
       "      <td>1964</td>\n",
       "      <td>7</td>\n",
       "      <td>India</td>\n",
       "      <td>Asia</td>\n",
       "      <td>56480289940</td>\n",
       "      <td>0.036255</td>\n",
       "    </tr>\n",
       "    <tr>\n",
       "      <th>...</th>\n",
       "      <td>...</td>\n",
       "      <td>...</td>\n",
       "      <td>...</td>\n",
       "      <td>...</td>\n",
       "      <td>...</td>\n",
       "      <td>...</td>\n",
       "    </tr>\n",
       "    <tr>\n",
       "      <th>9153</th>\n",
       "      <td>2016</td>\n",
       "      <td>7</td>\n",
       "      <td>India</td>\n",
       "      <td>Asia</td>\n",
       "      <td>2294797980509</td>\n",
       "      <td>0.030479</td>\n",
       "    </tr>\n",
       "    <tr>\n",
       "      <th>9357</th>\n",
       "      <td>2017</td>\n",
       "      <td>6</td>\n",
       "      <td>India</td>\n",
       "      <td>Asia</td>\n",
       "      <td>2651472946375</td>\n",
       "      <td>0.033085</td>\n",
       "    </tr>\n",
       "    <tr>\n",
       "      <th>9562</th>\n",
       "      <td>2018</td>\n",
       "      <td>7</td>\n",
       "      <td>India</td>\n",
       "      <td>Asia</td>\n",
       "      <td>2701111782774</td>\n",
       "      <td>0.031710</td>\n",
       "    </tr>\n",
       "    <tr>\n",
       "      <th>9764</th>\n",
       "      <td>2019</td>\n",
       "      <td>5</td>\n",
       "      <td>India</td>\n",
       "      <td>Asia</td>\n",
       "      <td>2870504096717</td>\n",
       "      <td>0.033278</td>\n",
       "    </tr>\n",
       "    <tr>\n",
       "      <th>9963</th>\n",
       "      <td>2020</td>\n",
       "      <td>5</td>\n",
       "      <td>India</td>\n",
       "      <td>Asia</td>\n",
       "      <td>2622983732006</td>\n",
       "      <td>0.033827</td>\n",
       "    </tr>\n",
       "  </tbody>\n",
       "</table>\n",
       "<p>61 rows × 6 columns</p>\n",
       "</div>"
      ],
      "text/plain": [
       "      year  rank country state            gdp  gdp_percent\n",
       "7     1960     8   India  Asia    37029883875     0.031931\n",
       "110   1961     8   India  Asia    39232435784     0.032502\n",
       "213   1962     8   India  Asia    42161481858     0.031930\n",
       "317   1963     7   India  Asia    48421923458     0.034050\n",
       "422   1964     7   India  Asia    56480289940     0.036255\n",
       "...    ...   ...     ...   ...            ...          ...\n",
       "9153  2016     7   India  Asia  2294797980509     0.030479\n",
       "9357  2017     6   India  Asia  2651472946375     0.033085\n",
       "9562  2018     7   India  Asia  2701111782774     0.031710\n",
       "9764  2019     5   India  Asia  2870504096717     0.033278\n",
       "9963  2020     5   India  Asia  2622983732006     0.033827\n",
       "\n",
       "[61 rows x 6 columns]"
      ]
     },
     "execution_count": 17,
     "metadata": {},
     "output_type": "execute_result"
    }
   ],
   "source": [
    "gdp_India = gdp[gdp['country'] == 'India']\n",
    "gdp_India"
   ]
  },
  {
   "cell_type": "code",
   "execution_count": null,
   "id": "948efdd1-a108-47ae-87c9-12b76b2d7d27",
   "metadata": {},
   "outputs": [],
   "source": [
    "#Dropping the column 'rank', 'state', 'gdp_percent' as those columns holds no importance for our analysis and forecasting."
   ]
  },
  {
   "cell_type": "code",
   "execution_count": 18,
   "id": "54676e8b-2902-4982-acd3-7a951902a82a",
   "metadata": {},
   "outputs": [
    {
     "name": "stderr",
     "output_type": "stream",
     "text": [
      "/Users/vishaldubey/opt/anaconda3/lib/python3.9/site-packages/pandas/core/frame.py:4906: SettingWithCopyWarning: \n",
      "A value is trying to be set on a copy of a slice from a DataFrame\n",
      "\n",
      "See the caveats in the documentation: https://pandas.pydata.org/pandas-docs/stable/user_guide/indexing.html#returning-a-view-versus-a-copy\n",
      "  return super().drop(\n"
     ]
    }
   ],
   "source": [
    "gdp_India.drop(['rank', 'state', 'gdp_percent'], axis = 1, inplace = True)"
   ]
  },
  {
   "cell_type": "code",
   "execution_count": 19,
   "id": "8f3bf741-54dd-4f64-863f-b159f56533c3",
   "metadata": {},
   "outputs": [
    {
     "data": {
      "text/html": [
       "<div>\n",
       "<style scoped>\n",
       "    .dataframe tbody tr th:only-of-type {\n",
       "        vertical-align: middle;\n",
       "    }\n",
       "\n",
       "    .dataframe tbody tr th {\n",
       "        vertical-align: top;\n",
       "    }\n",
       "\n",
       "    .dataframe thead th {\n",
       "        text-align: right;\n",
       "    }\n",
       "</style>\n",
       "<table border=\"1\" class=\"dataframe\">\n",
       "  <thead>\n",
       "    <tr style=\"text-align: right;\">\n",
       "      <th></th>\n",
       "      <th>year</th>\n",
       "      <th>country</th>\n",
       "      <th>gdp</th>\n",
       "    </tr>\n",
       "  </thead>\n",
       "  <tbody>\n",
       "    <tr>\n",
       "      <th>7</th>\n",
       "      <td>1960</td>\n",
       "      <td>India</td>\n",
       "      <td>37029883875</td>\n",
       "    </tr>\n",
       "    <tr>\n",
       "      <th>110</th>\n",
       "      <td>1961</td>\n",
       "      <td>India</td>\n",
       "      <td>39232435784</td>\n",
       "    </tr>\n",
       "    <tr>\n",
       "      <th>213</th>\n",
       "      <td>1962</td>\n",
       "      <td>India</td>\n",
       "      <td>42161481858</td>\n",
       "    </tr>\n",
       "    <tr>\n",
       "      <th>317</th>\n",
       "      <td>1963</td>\n",
       "      <td>India</td>\n",
       "      <td>48421923458</td>\n",
       "    </tr>\n",
       "    <tr>\n",
       "      <th>422</th>\n",
       "      <td>1964</td>\n",
       "      <td>India</td>\n",
       "      <td>56480289940</td>\n",
       "    </tr>\n",
       "    <tr>\n",
       "      <th>...</th>\n",
       "      <td>...</td>\n",
       "      <td>...</td>\n",
       "      <td>...</td>\n",
       "    </tr>\n",
       "    <tr>\n",
       "      <th>9153</th>\n",
       "      <td>2016</td>\n",
       "      <td>India</td>\n",
       "      <td>2294797980509</td>\n",
       "    </tr>\n",
       "    <tr>\n",
       "      <th>9357</th>\n",
       "      <td>2017</td>\n",
       "      <td>India</td>\n",
       "      <td>2651472946375</td>\n",
       "    </tr>\n",
       "    <tr>\n",
       "      <th>9562</th>\n",
       "      <td>2018</td>\n",
       "      <td>India</td>\n",
       "      <td>2701111782774</td>\n",
       "    </tr>\n",
       "    <tr>\n",
       "      <th>9764</th>\n",
       "      <td>2019</td>\n",
       "      <td>India</td>\n",
       "      <td>2870504096717</td>\n",
       "    </tr>\n",
       "    <tr>\n",
       "      <th>9963</th>\n",
       "      <td>2020</td>\n",
       "      <td>India</td>\n",
       "      <td>2622983732006</td>\n",
       "    </tr>\n",
       "  </tbody>\n",
       "</table>\n",
       "<p>61 rows × 3 columns</p>\n",
       "</div>"
      ],
      "text/plain": [
       "      year country            gdp\n",
       "7     1960   India    37029883875\n",
       "110   1961   India    39232435784\n",
       "213   1962   India    42161481858\n",
       "317   1963   India    48421923458\n",
       "422   1964   India    56480289940\n",
       "...    ...     ...            ...\n",
       "9153  2016   India  2294797980509\n",
       "9357  2017   India  2651472946375\n",
       "9562  2018   India  2701111782774\n",
       "9764  2019   India  2870504096717\n",
       "9963  2020   India  2622983732006\n",
       "\n",
       "[61 rows x 3 columns]"
      ]
     },
     "execution_count": 19,
     "metadata": {},
     "output_type": "execute_result"
    }
   ],
   "source": [
    "gdp_India"
   ]
  },
  {
   "cell_type": "code",
   "execution_count": null,
   "id": "9ecca326-7b93-4079-b087-fe31cc2bba73",
   "metadata": {},
   "outputs": [],
   "source": [
    "#Visualising the GDP of India over the past years."
   ]
  },
  {
   "cell_type": "code",
   "execution_count": 27,
   "id": "04a62bea-44cb-4805-ab85-637ca5b56dba",
   "metadata": {},
   "outputs": [
    {
     "data": {
      "image/png": "[encoded data removed]",
      "text/plain": [
       "<Figure size 720x504 with 1 Axes>"
      ]
     },
     "metadata": {
      "needs_background": "light"
     },
     "output_type": "display_data"
    }
   ],
   "source": [
    "import matplotlib.pyplot as plt\n",
    "import seaborn as sns\n",
    "plt.figure(figsize = (10,7))\n",
    "sns.barplot(x = 'year', y = 'gdp', hue = 'country', data = gdp_India)\n",
    "plt.xticks(rotation=90)\n",
    "plt.title('Indias GDP')\n",
    "plt.show()"
   ]
  },
  {
   "cell_type": "code",
   "execution_count": null,
   "id": "7def50e5-de94-466e-9311-bfc252c8f5ea",
   "metadata": {},
   "outputs": [],
   "source": [
    "#We will train our data of India's GDP to fit and predict the future GDP "
   ]
  },
  {
   "cell_type": "code",
   "execution_count": 30,
   "id": "d427d8a6-de7e-40ca-9e17-4ed03451dedb",
   "metadata": {},
   "outputs": [],
   "source": [
    "x1 = gdp_India.drop(['gdp', 'country'], axis =1)\n",
    "y1 = gdp_India['gdp']"
   ]
  },
  {
   "cell_type": "code",
   "execution_count": 31,
   "id": "a1c47b77-bea3-40f8-8075-0d7328f942b7",
   "metadata": {},
   "outputs": [],
   "source": [
    "from sklearn.linear_model import LinearRegression\n",
    "from sklearn.model_selection import train_test_split"
   ]
  },
  {
   "cell_type": "code",
   "execution_count": 32,
   "id": "a9852d74-9cb4-4ac5-9637-61aed68bdf32",
   "metadata": {},
   "outputs": [
    {
     "data": {
      "text/plain": [
       "LinearRegression()"
      ]
     },
     "execution_count": 32,
     "metadata": {},
     "output_type": "execute_result"
    }
   ],
   "source": [
    "x_train, x_test, y_train, y_test, = train_test_split(x1, y1, test_size = 0.2)\n",
    "\n",
    "gdp_model_India = LinearRegression()\n",
    "gdp_model_India.fit(x1,y1)"
   ]
  },
  {
   "cell_type": "code",
   "execution_count": 34,
   "id": "fe3ac1eb-3b99-4249-b4f5-0a13e39e5eff",
   "metadata": {},
   "outputs": [
    {
     "name": "stdout",
     "output_type": "stream",
     "text": [
      "Coefficient:  [3.87539925e+10]\n",
      "Intercept:  -76462096733309.66\n"
     ]
    }
   ],
   "source": [
    "print('Coefficient: ', gdp_model_India.coef_)\n",
    "print('Intercept: ', gdp_model_India.intercept_)\n",
    "pred = gdp_model_India.predict(x1)"
   ]
  },
  {
   "cell_type": "code",
   "execution_count": null,
   "id": "a9d22f62-e430-4c3c-8f04-be1c67d73ec2",
   "metadata": {},
   "outputs": [],
   "source": [
    "#Plotting the predicted values and actual values of India's GDP"
   ]
  },
  {
   "cell_type": "code",
   "execution_count": 35,
   "id": "f249b482-aae0-4ead-8587-80dd5e33291b",
   "metadata": {},
   "outputs": [
    {
     "data": {
      "image/png": "[encoded data removed]",
      "text/plain": [
       "<Figure size 720x576 with 1 Axes>"
      ]
     },
     "metadata": {
      "needs_background": "light"
     },
     "output_type": "display_data"
    }
   ],
   "source": [
    "plt.figure(figsize =(10,8))\n",
    "plt.scatter(x1, y1, label = 'Actual Values')\n",
    "plt.plot(x1, pred, color='orange', label ='Predicted Values')\n",
    "plt.legend()\n",
    "plt.xticks(rotation=90)\n",
    "plt.ylabel('Per year Indias GDP')\n",
    "plt.title('India')\n",
    "plt.show()"
   ]
  },
  {
   "cell_type": "code",
   "execution_count": null,
   "id": "a6b25bb6-453c-4086-9747-73ea61261cb5",
   "metadata": {},
   "outputs": [],
   "source": [
    "#We will check the prediction of future years of our model of India's GDP"
   ]
  },
  {
   "cell_type": "code",
   "execution_count": 36,
   "id": "ef72cae3-323b-4a8a-ac8f-507595e4fa46",
   "metadata": {},
   "outputs": [
    {
     "name": "stdout",
     "output_type": "stream",
     "text": [
      "[1.85972215e+12]\n",
      "[1.89847614e+12]\n",
      "[1.93723013e+12]\n",
      "[1.97598412e+12]\n"
     ]
    }
   ],
   "source": [
    "years = [2021, 2022, 2023, 2024]\n",
    "for i in years:\n",
    "    print(gdp_model_India.predict([[i]]))"
   ]
  },
  {
   "cell_type": "code",
   "execution_count": null,
   "id": "88c34a88-074a-4cc6-aada-faef90907ee5",
   "metadata": {},
   "outputs": [],
   "source": []
  }
 ],
 "metadata": {
  "kernelspec": {
   "display_name": "Python 3 (ipykernel)",
   "language": "python",
   "name": "python3"
  },
  "language_info": {
   "codemirror_mode": {
    "name": "ipython",
    "version": 3
   },
   "file_extension": ".py",
   "mimetype": "text/x-python",
   "name": "python",
   "nbconvert_exporter": "python",
   "pygments_lexer": "ipython3",
   "version": "3.9.7"
  }
 },
 "nbformat": 4,
 "nbformat_minor": 5
}
